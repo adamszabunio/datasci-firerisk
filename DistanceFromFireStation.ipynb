{
 "cells": [
  {
   "cell_type": "markdown",
   "metadata": {},
   "source": [
    "# Distance From Firestation\n",
    "This notebook computes the closest firestation for each EAS and adds the distance to the spreadsheet."
   ]
  },
  {
   "cell_type": "code",
   "execution_count": 1,
   "metadata": {
    "collapsed": true
   },
   "outputs": [],
   "source": [
    "import pandas as pd\n",
    "import os\n",
    "pd.set_option(\"display.max_columns\", 100)"
   ]
  },
  {
   "cell_type": "code",
   "execution_count": 2,
   "metadata": {
    "collapsed": true
   },
   "outputs": [],
   "source": [
    "DATA_URL = 'data/'\n",
    "FILE_NAME = 'masterdf_20170920.csv'"
   ]
  },
  {
   "cell_type": "code",
   "execution_count": 3,
   "metadata": {
    "collapsed": false
   },
   "outputs": [],
   "source": [
    "df = pd.read_csv(os.path.join(DATA_URL, FILE_NAME), index_col=0, low_memory=False)"
   ]
  },
  {
   "cell_type": "code",
   "execution_count": 4,
   "metadata": {
    "collapsed": false
   },
   "outputs": [
    {
     "data": {
      "text/html": [
       "<div>\n",
       "<style>\n",
       "    .dataframe thead tr:only-child th {\n",
       "        text-align: right;\n",
       "    }\n",
       "\n",
       "    .dataframe thead th {\n",
       "        text-align: left;\n",
       "    }\n",
       "\n",
       "    .dataframe tbody tr th {\n",
       "        vertical-align: top;\n",
       "    }\n",
       "</style>\n",
       "<table border=\"1\" class=\"dataframe\">\n",
       "  <thead>\n",
       "    <tr style=\"text-align: right;\">\n",
       "      <th></th>\n",
       "      <th>Incident Date</th>\n",
       "      <th>EAS</th>\n",
       "      <th>Incident_Year</th>\n",
       "      <th>Incident_Cat</th>\n",
       "      <th>Incident_Dummy</th>\n",
       "      <th>Neighborhood</th>\n",
       "      <th>Location_y</th>\n",
       "      <th>Address</th>\n",
       "      <th>Building_Cat</th>\n",
       "      <th>Yr_Property_Built</th>\n",
       "      <th>Num_Bathrooms</th>\n",
       "      <th>Num_Bedrooms</th>\n",
       "      <th>Num_Rooms</th>\n",
       "      <th>Num_Stories</th>\n",
       "      <th>Num_Units</th>\n",
       "      <th>Perc_Ownership</th>\n",
       "      <th>Land_Value</th>\n",
       "      <th>Property_Area</th>\n",
       "      <th>Assessed_Improvement_Val</th>\n",
       "      <th>Tot_Rooms</th>\n",
       "      <th>landval_psqft</th>\n",
       "      <th>count potential fire control</th>\n",
       "      <th>count all complaints</th>\n",
       "      <th>count all complaints not corrected</th>\n",
       "      <th>count potential fire control not corrected</th>\n",
       "      <th>count fire emergency safety</th>\n",
       "      <th>count potential fire cause</th>\n",
       "      <th>count fire emergency safety not corrected</th>\n",
       "      <th>count potential fire cause not corrected</th>\n",
       "    </tr>\n",
       "  </thead>\n",
       "  <tbody>\n",
       "    <tr>\n",
       "      <th>0</th>\n",
       "      <td>2015-06-20</td>\n",
       "      <td>451005.0</td>\n",
       "      <td>2015.0</td>\n",
       "      <td>COOKING FIRE</td>\n",
       "      <td>1.0</td>\n",
       "      <td>SUNSET/PARKSIDE</td>\n",
       "      <td>(37.7543289339354, -122.480327187833)</td>\n",
       "      <td>1532 NORIEGA ST</td>\n",
       "      <td>COMMERCIAL USE</td>\n",
       "      <td>1989.0</td>\n",
       "      <td>0.0</td>\n",
       "      <td>0.0</td>\n",
       "      <td>11.0</td>\n",
       "      <td>3.0</td>\n",
       "      <td>2.777778</td>\n",
       "      <td>1.0</td>\n",
       "      <td>4.384343e+05</td>\n",
       "      <td>4135.0</td>\n",
       "      <td>262181.666667</td>\n",
       "      <td>11.0</td>\n",
       "      <td>106.030069</td>\n",
       "      <td>0.0</td>\n",
       "      <td>0.0</td>\n",
       "      <td>0.0</td>\n",
       "      <td>0.0</td>\n",
       "      <td>0.0</td>\n",
       "      <td>0.0</td>\n",
       "      <td>0.0</td>\n",
       "      <td>0.0</td>\n",
       "    </tr>\n",
       "    <tr>\n",
       "      <th>1</th>\n",
       "      <td>2010-11-28</td>\n",
       "      <td>360149.0</td>\n",
       "      <td>2010.0</td>\n",
       "      <td>COOKING FIRE</td>\n",
       "      <td>1.0</td>\n",
       "      <td>MISSION</td>\n",
       "      <td>(37.7645472195468, -122.418358468789)</td>\n",
       "      <td>135 CAPP ST</td>\n",
       "      <td>APARTMENT</td>\n",
       "      <td>1908.0</td>\n",
       "      <td>0.0</td>\n",
       "      <td>0.0</td>\n",
       "      <td>36.0</td>\n",
       "      <td>3.0</td>\n",
       "      <td>12.000000</td>\n",
       "      <td>1.0</td>\n",
       "      <td>1.365665e+06</td>\n",
       "      <td>9318.0</td>\n",
       "      <td>566375.428571</td>\n",
       "      <td>36.0</td>\n",
       "      <td>146.562030</td>\n",
       "      <td>3.0</td>\n",
       "      <td>3.0</td>\n",
       "      <td>1.0</td>\n",
       "      <td>1.0</td>\n",
       "      <td>0.0</td>\n",
       "      <td>0.0</td>\n",
       "      <td>0.0</td>\n",
       "      <td>0.0</td>\n",
       "    </tr>\n",
       "    <tr>\n",
       "      <th>2</th>\n",
       "      <td>2011-04-26</td>\n",
       "      <td>360149.0</td>\n",
       "      <td>2011.0</td>\n",
       "      <td>COOKING FIRE</td>\n",
       "      <td>1.0</td>\n",
       "      <td>MISSION</td>\n",
       "      <td>(37.7645472195468, -122.418358468789)</td>\n",
       "      <td>135 CAPP ST</td>\n",
       "      <td>APARTMENT</td>\n",
       "      <td>1908.0</td>\n",
       "      <td>0.0</td>\n",
       "      <td>0.0</td>\n",
       "      <td>36.0</td>\n",
       "      <td>3.0</td>\n",
       "      <td>12.000000</td>\n",
       "      <td>1.0</td>\n",
       "      <td>1.365665e+06</td>\n",
       "      <td>9318.0</td>\n",
       "      <td>566375.428571</td>\n",
       "      <td>36.0</td>\n",
       "      <td>146.562030</td>\n",
       "      <td>3.0</td>\n",
       "      <td>3.0</td>\n",
       "      <td>1.0</td>\n",
       "      <td>1.0</td>\n",
       "      <td>0.0</td>\n",
       "      <td>0.0</td>\n",
       "      <td>0.0</td>\n",
       "      <td>0.0</td>\n",
       "    </tr>\n",
       "    <tr>\n",
       "      <th>3</th>\n",
       "      <td>2006-03-09</td>\n",
       "      <td>360149.0</td>\n",
       "      <td>2006.0</td>\n",
       "      <td>BUILDING FIRE</td>\n",
       "      <td>1.0</td>\n",
       "      <td>MISSION</td>\n",
       "      <td>(37.7645472195468, -122.418358468789)</td>\n",
       "      <td>135 CAPP ST</td>\n",
       "      <td>APARTMENT</td>\n",
       "      <td>1908.0</td>\n",
       "      <td>0.0</td>\n",
       "      <td>0.0</td>\n",
       "      <td>36.0</td>\n",
       "      <td>3.0</td>\n",
       "      <td>12.000000</td>\n",
       "      <td>1.0</td>\n",
       "      <td>1.365665e+06</td>\n",
       "      <td>9318.0</td>\n",
       "      <td>566375.428571</td>\n",
       "      <td>36.0</td>\n",
       "      <td>146.562030</td>\n",
       "      <td>3.0</td>\n",
       "      <td>3.0</td>\n",
       "      <td>1.0</td>\n",
       "      <td>1.0</td>\n",
       "      <td>0.0</td>\n",
       "      <td>0.0</td>\n",
       "      <td>0.0</td>\n",
       "      <td>0.0</td>\n",
       "    </tr>\n",
       "    <tr>\n",
       "      <th>4</th>\n",
       "      <td>2004-05-28</td>\n",
       "      <td>360149.0</td>\n",
       "      <td>2004.0</td>\n",
       "      <td>OUTDOOR FIRE</td>\n",
       "      <td>1.0</td>\n",
       "      <td>MISSION</td>\n",
       "      <td>(37.7645472195468, -122.418358468789)</td>\n",
       "      <td>135 CAPP ST</td>\n",
       "      <td>APARTMENT</td>\n",
       "      <td>1908.0</td>\n",
       "      <td>0.0</td>\n",
       "      <td>0.0</td>\n",
       "      <td>36.0</td>\n",
       "      <td>3.0</td>\n",
       "      <td>12.000000</td>\n",
       "      <td>1.0</td>\n",
       "      <td>1.365665e+06</td>\n",
       "      <td>9318.0</td>\n",
       "      <td>566375.428571</td>\n",
       "      <td>36.0</td>\n",
       "      <td>146.562030</td>\n",
       "      <td>3.0</td>\n",
       "      <td>3.0</td>\n",
       "      <td>1.0</td>\n",
       "      <td>1.0</td>\n",
       "      <td>0.0</td>\n",
       "      <td>0.0</td>\n",
       "      <td>0.0</td>\n",
       "      <td>0.0</td>\n",
       "    </tr>\n",
       "  </tbody>\n",
       "</table>\n",
       "</div>"
      ],
      "text/plain": [
       "  Incident Date       EAS  Incident_Year   Incident_Cat  Incident_Dummy  \\\n",
       "0    2015-06-20  451005.0         2015.0   COOKING FIRE             1.0   \n",
       "1    2010-11-28  360149.0         2010.0   COOKING FIRE             1.0   \n",
       "2    2011-04-26  360149.0         2011.0   COOKING FIRE             1.0   \n",
       "3    2006-03-09  360149.0         2006.0  BUILDING FIRE             1.0   \n",
       "4    2004-05-28  360149.0         2004.0   OUTDOOR FIRE             1.0   \n",
       "\n",
       "      Neighborhood                             Location_y          Address  \\\n",
       "0  SUNSET/PARKSIDE  (37.7543289339354, -122.480327187833)  1532 NORIEGA ST   \n",
       "1          MISSION  (37.7645472195468, -122.418358468789)      135 CAPP ST   \n",
       "2          MISSION  (37.7645472195468, -122.418358468789)      135 CAPP ST   \n",
       "3          MISSION  (37.7645472195468, -122.418358468789)      135 CAPP ST   \n",
       "4          MISSION  (37.7645472195468, -122.418358468789)      135 CAPP ST   \n",
       "\n",
       "     Building_Cat  Yr_Property_Built  Num_Bathrooms  Num_Bedrooms  Num_Rooms  \\\n",
       "0  COMMERCIAL USE             1989.0            0.0           0.0       11.0   \n",
       "1       APARTMENT             1908.0            0.0           0.0       36.0   \n",
       "2       APARTMENT             1908.0            0.0           0.0       36.0   \n",
       "3       APARTMENT             1908.0            0.0           0.0       36.0   \n",
       "4       APARTMENT             1908.0            0.0           0.0       36.0   \n",
       "\n",
       "   Num_Stories  Num_Units  Perc_Ownership    Land_Value  Property_Area  \\\n",
       "0          3.0   2.777778             1.0  4.384343e+05         4135.0   \n",
       "1          3.0  12.000000             1.0  1.365665e+06         9318.0   \n",
       "2          3.0  12.000000             1.0  1.365665e+06         9318.0   \n",
       "3          3.0  12.000000             1.0  1.365665e+06         9318.0   \n",
       "4          3.0  12.000000             1.0  1.365665e+06         9318.0   \n",
       "\n",
       "   Assessed_Improvement_Val  Tot_Rooms  landval_psqft  \\\n",
       "0             262181.666667       11.0     106.030069   \n",
       "1             566375.428571       36.0     146.562030   \n",
       "2             566375.428571       36.0     146.562030   \n",
       "3             566375.428571       36.0     146.562030   \n",
       "4             566375.428571       36.0     146.562030   \n",
       "\n",
       "   count potential fire control  count all complaints  \\\n",
       "0                           0.0                   0.0   \n",
       "1                           3.0                   3.0   \n",
       "2                           3.0                   3.0   \n",
       "3                           3.0                   3.0   \n",
       "4                           3.0                   3.0   \n",
       "\n",
       "   count all complaints not corrected  \\\n",
       "0                                 0.0   \n",
       "1                                 1.0   \n",
       "2                                 1.0   \n",
       "3                                 1.0   \n",
       "4                                 1.0   \n",
       "\n",
       "   count potential fire control not corrected  count fire emergency safety  \\\n",
       "0                                         0.0                          0.0   \n",
       "1                                         1.0                          0.0   \n",
       "2                                         1.0                          0.0   \n",
       "3                                         1.0                          0.0   \n",
       "4                                         1.0                          0.0   \n",
       "\n",
       "   count potential fire cause  count fire emergency safety not corrected  \\\n",
       "0                         0.0                                        0.0   \n",
       "1                         0.0                                        0.0   \n",
       "2                         0.0                                        0.0   \n",
       "3                         0.0                                        0.0   \n",
       "4                         0.0                                        0.0   \n",
       "\n",
       "   count potential fire cause not corrected  \n",
       "0                                       0.0  \n",
       "1                                       0.0  \n",
       "2                                       0.0  \n",
       "3                                       0.0  \n",
       "4                                       0.0  "
      ]
     },
     "execution_count": 4,
     "metadata": {},
     "output_type": "execute_result"
    }
   ],
   "source": [
    "df.head()"
   ]
  },
  {
   "cell_type": "code",
   "execution_count": 5,
   "metadata": {
    "collapsed": false
   },
   "outputs": [
    {
     "data": {
      "text/plain": [
       "195308"
      ]
     },
     "execution_count": 5,
     "metadata": {},
     "output_type": "execute_result"
    }
   ],
   "source": [
    "len(df)"
   ]
  },
  {
   "cell_type": "markdown",
   "metadata": {
    "collapsed": true
   },
   "source": [
    "## Fire Stations\n",
    "* Distance of closest fire station to instance"
   ]
  },
  {
   "cell_type": "markdown",
   "metadata": {},
   "source": [
    "### Getting address of all fire stations in SF\n",
    "[sf-fire.org](http://sf-fire.org/fire-station-locations) lists all fire stations on their website. A simple webscraper should do the trick to get the addresses. "
   ]
  },
  {
   "cell_type": "code",
   "execution_count": 6,
   "metadata": {
    "collapsed": true
   },
   "outputs": [],
   "source": [
    "import urllib2\n",
    "from bs4 import BeautifulSoup\n",
    "URL = \"http://sf-fire.org/fire-station-locations\""
   ]
  },
  {
   "cell_type": "code",
   "execution_count": 7,
   "metadata": {
    "collapsed": true
   },
   "outputs": [],
   "source": [
    "def get_fire_station_addresses(URL):\n",
    "    page = urllib2.urlopen(URL)\n",
    "    soup = BeautifulSoup(page, \"lxml\")\n",
    "    result_set = soup.find_all('div', attrs={\"class\" : \"view-opensf-layout\"})\n",
    "    \n",
    "    # list to store addresses in\n",
    "    fire_station_adds = []\n",
    "    for links in soup.find_all('a'):\n",
    "        try:\n",
    "            if 'propertymap' in links.get('href'):\n",
    "                fire_station_adds.append(links.get('href').split(\"=\")[2] + \", San Francisco\")\n",
    "        except TypeError: #omit empty results\n",
    "            continue\n",
    "    return fire_station_adds"
   ]
  },
  {
   "cell_type": "code",
   "execution_count": 8,
   "metadata": {
    "collapsed": false
   },
   "outputs": [],
   "source": [
    "fire_station_adds = get_fire_station_addresses(URL)"
   ]
  },
  {
   "cell_type": "code",
   "execution_count": 9,
   "metadata": {
    "collapsed": false
   },
   "outputs": [
    {
     "data": {
      "text/plain": [
       "['935 FOLSOM, San Francisco',\n",
       " '1340 POWELL, San Francisco',\n",
       " '1067 POST, San Francisco',\n",
       " '449 MISSION ROCK, San Francisco',\n",
       " '1301 TURK, San Francisco']"
      ]
     },
     "execution_count": 9,
     "metadata": {},
     "output_type": "execute_result"
    }
   ],
   "source": [
    "fire_station_adds[:5] #show first 5 addresses"
   ]
  },
  {
   "cell_type": "markdown",
   "metadata": {},
   "source": [
    "The site states 45 fire stations (Ranging from 1 to 51 with some numbers left out). Let's double check we got all 51 addresses."
   ]
  },
  {
   "cell_type": "code",
   "execution_count": 10,
   "metadata": {
    "collapsed": false
   },
   "outputs": [
    {
     "data": {
      "text/plain": [
       "45"
      ]
     },
     "execution_count": 10,
     "metadata": {},
     "output_type": "execute_result"
    }
   ],
   "source": [
    "len(fire_station_adds)"
   ]
  },
  {
   "cell_type": "markdown",
   "metadata": {},
   "source": [
    "### Getting location information for fire stations\n",
    "For all 45 fire stations in SF the geolocations will be fetched from two services geopy and google maps. Since both services are 'hit-or-miss' the method that's being used recursively works on all addresses it hasn't gotten a response yet. Once an address was returned, the address is being deleted from the list. If the list doesn't return any new values after 5 iterations, the process is being stopped."
   ]
  },
  {
   "cell_type": "code",
   "execution_count": 11,
   "metadata": {
    "collapsed": false
   },
   "outputs": [],
   "source": [
    "import time\n",
    "import random\n",
    "import requests\n",
    "\n",
    "def fetch_address_info(address_list, service='google', verbose=True, max_iter=5, timer=False):\n",
    "    \"\"\"\n",
    "    Uses geopy iteratively until all addresses are stored.\n",
    "    \"\"\"\n",
    "    def _fetch_geopy(address):\n",
    "        try:\n",
    "            tmp_result = geolocator.geocode(address)\n",
    "        except Exception:\n",
    "            tmp_result = []\n",
    "        return tmp_result\n",
    "    \n",
    "    def _fetch_google(address):\n",
    "        URL = \"https://maps.googleapis.com/maps/api/geocode/json?address=\" + address\n",
    "        response = requests.get(URL)\n",
    "        resp_json_payload = response.json()\n",
    "        return resp_json_payload['results']\n",
    "    \n",
    "    address_dict = {}\n",
    "    non_succ_set = list(address_list)\n",
    "    iterations = 1\n",
    "    len_counter = 1\n",
    "    len_val = -1\n",
    "    \n",
    "    from geopy.geocoders import Nominatim\n",
    "    geolocator = Nominatim()\n",
    "\n",
    "    while non_succ_set:\n",
    "        if len_val == len(non_succ_set):\n",
    "            len_counter += 1\n",
    "        len_val = len(non_succ_set)\n",
    "        print \"{} addresses in the queue (Iteration {})\".format(len_val, iterations)\n",
    "        for address in non_succ_set:\n",
    "            fetch_verbose_string = \"Fetching data for: \" + address\n",
    "            if service == 'google':\n",
    "                address_dict[address] = _fetch_google(address)\n",
    "            elif service == 'geopy':\n",
    "                address_dict[address] = _fetch_geopy(address)\n",
    "            else:\n",
    "                raise AttributeError(\"You need to specify either 'google' or 'geopy' as service attribute.\")\n",
    "            if address_dict[address]:\n",
    "                fetch_verbose_string += \"\\t\\t\\t ... successful\"\n",
    "                non_succ_set.remove(address)\n",
    "            else:\n",
    "                fetch_verbose_string += \"\\t\\t\\t ... not successful, queueing up again\"\n",
    "            if verbose:\n",
    "                print fetch_verbose_string\n",
    "            if timer:\n",
    "                sleep_time = random.randint(2, 4) \n",
    "                time.sleep(sleep_time)\n",
    "        iterations += 1\n",
    "        if len_counter > max_iter-1:\n",
    "            print \"Termination: {} addresses couldn't be found\".format(len_val)\n",
    "            return address_dict\n",
    "    return address_dict"
   ]
  },
  {
   "cell_type": "code",
   "execution_count": 12,
   "metadata": {
    "collapsed": false
   },
   "outputs": [
    {
     "name": "stdout",
     "output_type": "stream",
     "text": [
      "45 addresses in the queue (Iteration 1)\n",
      "23 addresses in the queue (Iteration 2)\n",
      "12 addresses in the queue (Iteration 3)\n",
      "7 addresses in the queue (Iteration 4)\n",
      "4 addresses in the queue (Iteration 5)\n",
      "2 addresses in the queue (Iteration 6)\n",
      "2 addresses in the queue (Iteration 7)\n",
      "2 addresses in the queue (Iteration 8)\n",
      "2 addresses in the queue (Iteration 9)\n",
      "2 addresses in the queue (Iteration 10)\n",
      "Termination: 2 addresses couldn't be found\n"
     ]
    }
   ],
   "source": [
    "refetch = False\n",
    "if refetch:\n",
    "    geopy_address_dict = fetch_address_info(fire_station_adds, service='geopy', verbose=False)"
   ]
  },
  {
   "cell_type": "markdown",
   "metadata": {},
   "source": [
    "The google api seems to have better result with a timing offset for each call."
   ]
  },
  {
   "cell_type": "code",
   "execution_count": 13,
   "metadata": {
    "collapsed": false
   },
   "outputs": [
    {
     "name": "stdout",
     "output_type": "stream",
     "text": [
      "45 addresses in the queue (Iteration 1)\n",
      "24 addresses in the queue (Iteration 2)\n",
      "13 addresses in the queue (Iteration 3)\n",
      "6 addresses in the queue (Iteration 4)\n",
      "3 addresses in the queue (Iteration 5)\n",
      "2 addresses in the queue (Iteration 6)\n",
      "1 addresses in the queue (Iteration 7)\n"
     ]
    }
   ],
   "source": [
    "if refetch:\n",
    "    google_address_dict = fetch_address_info(fire_station_adds, service='google', verbose=False, timer=True)"
   ]
  },
  {
   "cell_type": "code",
   "execution_count": null,
   "metadata": {
    "collapsed": true
   },
   "outputs": [],
   "source": [
    "import pickle\n",
    "\n",
    "if refetch:\n",
    "    with open('google_address_dict.pickle', 'wb') as handle:\n",
    "        pickle.dump(google_address_dict, handle, protocol=pickle.HIGHEST_PROTOCOL)\n",
    "    with open('geopy_address_dict.pickle', 'wb') as handle:\n",
    "        pickle.dump(geopy_address_dict, handle, protocol=pickle.HIGHEST_PROTOCOL)\n",
    "\n",
    "if not refetch:\n",
    "    with open('google_address_dict.pickle', 'rb') as handle:\n",
    "        google_address_dict = pickle.load(handle)\n",
    "    with open('geopy_address_dict.pickle', 'rb') as handle:\n",
    "        geopy_address_dict = pickle.load(handle)"
   ]
  },
  {
   "cell_type": "markdown",
   "metadata": {},
   "source": [
    "Geopy has some issues with two of the addresses we ingested. Google does a better job at matching address and geolocation."
   ]
  },
  {
   "cell_type": "code",
   "execution_count": 15,
   "metadata": {
    "collapsed": false
   },
   "outputs": [],
   "source": [
    "def get_lat_long(address_dict):\n",
    "    lat_lng_dict = {}\n",
    "    for address in address_dict:\n",
    "        lat_lng_dict[address] = (address_dict[address][0]['geometry']['location']['lat'], \n",
    "                                 address_dict[address][0]['geometry']['location']['lng'])\n",
    "    return lat_lng_dict"
   ]
  },
  {
   "cell_type": "code",
   "execution_count": 16,
   "metadata": {
    "collapsed": false
   },
   "outputs": [
    {
     "data": {
      "text/plain": [
       "{'100 Hoffman Avenue, San Francisco': (37.7531106, -122.4410957),\n",
       " '1000 Ocean Avenue, San Francisco': (37.7232908, -122.4529247),\n",
       " '1067 POST, San Francisco': (37.7866445, -122.4193329),\n",
       " '109 Oak Street, San Francisco': (37.7749469, -122.4212156),\n",
       " '1091 Portola Drive, San Francisco': (37.7400312, -122.4586575),\n",
       " '1145 Stanyan Street, San Francisco': (37.7634628, -122.4526316),\n",
       " '1290 16th Avenue , San Francisco': (37.7639903, -122.4736446),\n",
       " '1295 Shafter Avenue, San Francisco': (37.7275225, -122.385028),\n",
       " '1298 Girard Street, San Francisco': (37.7166417, -122.4004505),\n",
       " '1301 TURK, San Francisco': (37.7804435, -122.430725),\n",
       " '1325 Leavenworth Street , San Francisco': (37.7933971, -122.4165178),\n",
       " '1340 POWELL, San Francisco': (37.7970513, -122.4099507),\n",
       " '1348 45th Avenue, San Francisco': (37.7614112, -122.5046487),\n",
       " '135 SANCHEZ, San Francisco': (37.767088, -122.4307689),\n",
       " '1415 Evans Avenue, San Francisco': (37.740742, -122.3853284),\n",
       " '1443 GROVE, San Francisco': (37.7754351, -122.4402719),\n",
       " '1814 Stockton Street, San Francisco': (37.8025537, -122.409369),\n",
       " '1935 32nd Avenue, San Francisco': (37.7509061, -122.4905279),\n",
       " '194 Park Street, San Francisco': (37.7364417, -122.4212155),\n",
       " '2150 California Street, San Francisco': (37.7896976, -122.4299245),\n",
       " '2155 18th Avenue, San Francisco': (37.7476471, -122.4754049),\n",
       " '218 Lincoln Blvd, San Francisco': (37.80156660000001, -122.455466),\n",
       " '2245 JERROLD, San Francisco': (37.7452434, -122.4012488),\n",
       " '2251 Greenwich Street, San Francisco': (37.7986661, -122.4367471),\n",
       " '2300 FOLSOM, San Francisco': (37.7602611, -122.4151762),\n",
       " '2430 San Bruno Avenue, San Francisco': (37.7315794, -122.4055626),\n",
       " '285 Olympia Way, San Francisco': (37.7511703, -122.4562239),\n",
       " '299 Vermont Street, San Francisco': (37.7661645, -122.4043209),\n",
       " '3305 3rd Street, San Francisco': (37.7479108, -122.3871002),\n",
       " '36 BLUXOME, San Francisco': (37.7772827, -122.3967853),\n",
       " '380 The Embarcadero, San Francisco': (37.79652129999999, -122.395473),\n",
       " '3880 26th Street, San Francisco': (37.7486317, -122.4265007),\n",
       " '390 Buckingham Way, San Francisco': (37.7278234, -122.478942),\n",
       " '441 12th Avenue, San Francisco': (37.7798718, -122.4709543),\n",
       " '449 MISSION ROCK, San Francisco': (37.7727739, -122.38923),\n",
       " '499 41st Avenue, San Francisco': (37.7794499, -122.5026855),\n",
       " '530 Sansome Street, San Francisco': (37.7955293, -122.4013894),\n",
       " '551 26th Avenue, San Francisco': (37.779036, -122.486066),\n",
       " '655 PRESIDIO, San Francisco': (37.7856729, -122.4468446),\n",
       " '720 Moscow Street, San Francisco': (37.7163609, -122.431631),\n",
       " '798 Wisconsin Street, San Francisco': (37.7573061, -122.3989451),\n",
       " '8 Capital Street, San Francisco': (37.7108622, -122.4585864),\n",
       " '80 Digby Street, San Francisco': (37.7402791, -122.4333702),\n",
       " '800 Avenue I, San Francisco': (36.1444838, -115.1438187),\n",
       " '935 FOLSOM, San Francisco': (37.7794237, -122.4041048)}"
      ]
     },
     "execution_count": 16,
     "metadata": {},
     "output_type": "execute_result"
    }
   ],
   "source": [
    "get_lat_long(google_address_dict) # additional step for google results to get latitude and longitude values"
   ]
  },
  {
   "cell_type": "code",
   "execution_count": 17,
   "metadata": {
    "collapsed": true
   },
   "outputs": [],
   "source": [
    "addytest = get_lat_long(google_address_dict) # additional step for google results to get latitude and longitude values"
   ]
  },
  {
   "cell_type": "markdown",
   "metadata": {},
   "source": [
    "### Calculate Haversine Distance"
   ]
  },
  {
   "cell_type": "code",
   "execution_count": 18,
   "metadata": {
    "collapsed": true
   },
   "outputs": [],
   "source": [
    "from math import pi,sqrt,sin,cos,atan2\n",
    "\n",
    "def haversine(pos1, pos2):\n",
    "    lat1 = float(pos1[0])\n",
    "    long1 = float(pos1[1])\n",
    "    lat2 = float(pos2[0])\n",
    "    long2 = float(pos2[1])\n",
    "\n",
    "    degree_to_rad = float(pi / 180.0)\n",
    "\n",
    "    d_lat = (lat2 - lat1) * degree_to_rad\n",
    "    d_long = (long2 - long1) * degree_to_rad\n",
    "\n",
    "    a = pow(sin(d_lat / 2), 2) + cos(lat1 * degree_to_rad) * cos(lat2 * degree_to_rad) * pow(sin(d_long / 2), 2)\n",
    "    c = 2 * atan2(sqrt(a), sqrt(1 - a))\n",
    "    km = 6367 * c\n",
    "\n",
    "    return km"
   ]
  },
  {
   "cell_type": "code",
   "execution_count": 19,
   "metadata": {
    "collapsed": false
   },
   "outputs": [],
   "source": [
    "pos1 = addytest[addytest.keys()[1]]\n",
    "pos2 = addytest[addytest.keys()[2]]"
   ]
  },
  {
   "cell_type": "code",
   "execution_count": 23,
   "metadata": {
    "collapsed": false
   },
   "outputs": [],
   "source": [
    "def hav_all(row):\n",
    "    first_second = row.split(\",\")\n",
    "    first = float(first_second[0].split('(')[1])\n",
    "    second = float(first_second[1].split(')')[0])\n",
    "    pos1 = (first, second)\n",
    "    \n",
    "    min_distance = 12742.0 # diameter of earth in km\n",
    "    for fire_station in addytest:\n",
    "        distance = haversine(pos1, addytest[fire_station])\n",
    "        if distance < min_distance:\n",
    "            min_distance = distance\n",
    "    return min_distance\n",
    "    \n",
    "df[\"distance_next_fire_dpt_hav\"] = df[\"Location_y\"].apply(hav_all)"
   ]
  },
  {
   "cell_type": "code",
   "execution_count": 25,
   "metadata": {
    "collapsed": false
   },
   "outputs": [
    {
     "data": {
      "text/plain": [
       "count    195308.000000\n",
       "mean          0.648027\n",
       "std           0.312564\n",
       "min           0.007126\n",
       "25%           0.417233\n",
       "50%           0.630113\n",
       "75%           0.841236\n",
       "max           2.471300\n",
       "Name: distance_next_fire_dpt_hav, dtype: float64"
      ]
     },
     "execution_count": 25,
     "metadata": {},
     "output_type": "execute_result"
    }
   ],
   "source": [
    "df[\"distance_next_fire_dpt_hav\"].describe()"
   ]
  },
  {
   "cell_type": "markdown",
   "metadata": {
    "collapsed": true
   },
   "source": [
    "# Hydrants\n",
    "* Hydrant count in district\n",
    "* closest hydrant to instance"
   ]
  },
  {
   "cell_type": "code",
   "execution_count": null,
   "metadata": {
    "collapsed": true
   },
   "outputs": [],
   "source": []
  }
 ],
 "metadata": {
  "anaconda-cloud": {},
  "kernelspec": {
   "display_name": "Python [conda root]",
   "language": "python",
   "name": "conda-root-py"
  },
  "language_info": {
   "codemirror_mode": {
    "name": "ipython",
    "version": 2
   },
   "file_extension": ".py",
   "mimetype": "text/x-python",
   "name": "python",
   "nbconvert_exporter": "python",
   "pygments_lexer": "ipython2",
   "version": "2.7.13"
  }
 },
 "nbformat": 4,
 "nbformat_minor": 2
}
