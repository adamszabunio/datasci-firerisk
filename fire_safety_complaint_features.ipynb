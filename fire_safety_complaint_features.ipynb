{
 "cells": [
  {
   "cell_type": "markdown",
   "metadata": {
    "deletable": true,
    "editable": true
   },
   "source": [
    "# Generating Fire Safety Complaint Features\n",
    "## Introduction\n",
    "This notebook documents the process of generating feature data from the file `matched_Fire_Safety_Complaints.csv`"
   ]
  },
  {
   "cell_type": "markdown",
   "metadata": {
    "deletable": true,
    "editable": true
   },
   "source": [
    "## Loading the File"
   ]
  },
  {
   "cell_type": "code",
   "execution_count": 1,
   "metadata": {
    "collapsed": false,
    "deletable": true,
    "editable": true
   },
   "outputs": [],
   "source": [
    "import pandas\n",
    "\n",
    "PATH_TO_CSV = \"./data/matched_Fire_Safety_Complaints.csv\"\n",
    "complaints = pandas.read_csv(PATH_TO_CSV)"
   ]
  },
  {
   "cell_type": "markdown",
   "metadata": {
    "collapsed": true,
    "deletable": true,
    "editable": true
   },
   "source": [
    "## Examining and Grouping the Complaint Item Types\n",
    "Using Python's `Counter`, accumulate all the types of complaints, and the number of each type, in this dadaset."
   ]
  },
  {
   "cell_type": "code",
   "execution_count": 14,
   "metadata": {
    "collapsed": false,
    "deletable": true,
    "editable": true
   },
   "outputs": [
    {
     "data": {
      "text/plain": [
       "Counter({nan: 2,\n",
       "         'general hazardous materials': 343,\n",
       "         'leaking underground tanks': 4,\n",
       "         'alarm systems': 9683,\n",
       "         'sprinkler/standpipe systems': 995,\n",
       "         'hoarding': 108,\n",
       "         'roof access': 194,\n",
       "         'ul cert verification': 445,\n",
       "         'crisp complaint inspection': 32,\n",
       "         'combustible materials': 1456,\n",
       "         'unapproved place of assembly': 12,\n",
       "         'weeds and grass': 634,\n",
       "         'uncategorized complaint': 9838,\n",
       "         'open vacant building': 112,\n",
       "         'elevators not working': 217,\n",
       "         'refused hood + duct service': 49,\n",
       "         'fire escape': 122,\n",
       "         'multiple fire code violations': 620,\n",
       "         'illegal occupancy': 37,\n",
       "         'unlicensed auto repair': 116,\n",
       "         'blocked exits': 3593,\n",
       "         'exit maintenance': 147,\n",
       "         'electrical systems': 128,\n",
       "         'extinguishers': 1611,\n",
       "         'street numbering': 141,\n",
       "         'overcrowded place of assembly': 243,\n",
       "         'operating without a permit': 577})"
      ]
     },
     "execution_count": 14,
     "metadata": {},
     "output_type": "execute_result"
    }
   ],
   "source": [
    "from collections import Counter\n",
    "\n",
    "complaint_types = Counter(complaints[\"Complaint Item Type Description\"])\n",
    "complaint_types"
   ]
  },
  {
   "cell_type": "markdown",
   "metadata": {
    "deletable": true,
    "editable": true
   },
   "source": [
    "By looking at the total types, it seems that there are two complaints that have a type \"nan\", which appear to be complaints that weren't specified any type. We can drop these two.\n",
    "Several other complaint types seem to be more related to the safety of evacuation in case of fire (e.g. \"blocked exits\"), which are not related to the risk of fire happening. (We may drop these?)\n",
    "Furthermore, we may consider grouping similar complaint types.\n",
    "First, we may group many of the complaints into three categories: \"potential fire cause\", \"potential fire controll\", and \"fire emergency safety\".\n",
    "* Potential Fire Cause: \n",
    "    * general hazardous materials\n",
    "    * leaking underground tanks\n",
    "    * hoarding\n",
    "    * combustible materials\n",
    "    * weeds and grass\n",
    "    * open vacant building\n",
    "    * refused hood + duct service\n",
    "    * electrical systems\n",
    "    * unlicensed auto repair\n",
    "* Potential Fire Controll:\n",
    "    * alarm systems\n",
    "    * sprinkler/standpipe systems\n",
    "    * extinguishers\n",
    "* Fire Emergency Safety\n",
    "    * roof access\n",
    "    * unapproved place of assembly\n",
    "    * fire escape\n",
    "    * blocked exits\n",
    "    * exit maintenance\n",
    "    * street numbering\n",
    "    * overcrowded place of assembly\n",
    "    \n",
    "In addition, I'm not exactly sure how to categorize the following complaint types:\n",
    "* ul cert verification\n",
    "* crisp complaint inspection\n",
    "* uncategorized complaint\n",
    "* multiple fire code violations\n",
    "* illegal occupancy\n",
    "* operating without a permit"
   ]
  },
  {
   "cell_type": "markdown",
   "metadata": {
    "deletable": true,
    "editable": true
   },
   "source": [
    "## The Disposition Column"
   ]
  }
 ],
 "metadata": {
  "kernelspec": {
   "display_name": "Python 3",
   "language": "python",
   "name": "python3"
  },
  "language_info": {
   "codemirror_mode": {
    "name": "ipython",
    "version": 3
   },
   "file_extension": ".py",
   "mimetype": "text/x-python",
   "name": "python",
   "nbconvert_exporter": "python",
   "pygments_lexer": "ipython3",
   "version": "3.5.2"
  }
 },
 "nbformat": 4,
 "nbformat_minor": 2
}
