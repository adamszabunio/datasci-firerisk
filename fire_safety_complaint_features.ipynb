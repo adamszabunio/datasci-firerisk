{
 "cells": [
  {
   "cell_type": "markdown",
   "metadata": {
    "deletable": true,
    "editable": true
   },
   "source": [
    "# Generating Fire Safety Complaint Features\n",
    "## Introduction\n",
    "This notebook documents the process of generating feature data from the file `matched_Fire_Safety_Complaints.csv`"
   ]
  },
  {
   "cell_type": "markdown",
   "metadata": {
    "deletable": true,
    "editable": true
   },
   "source": [
    "## Loading the File"
   ]
  },
  {
   "cell_type": "code",
   "execution_count": 3,
   "metadata": {
    "collapsed": false,
    "deletable": true,
    "editable": true
   },
   "outputs": [],
   "source": [
    "import pandas\n",
    "\n",
    "PATH_TO_CSV = \"./data/matched_Fire_Safety_Complaints.csv\"\n",
    "complaints = pandas.read_csv(PATH_TO_CSV)"
   ]
  },
  {
   "cell_type": "markdown",
   "metadata": {
    "collapsed": true,
    "deletable": true,
    "editable": true
   },
   "source": [
    "## Examining and Grouping the Complaint Item Types\n",
    "Using Python's `Counter`, accumulate all the types of complaints, and the number of each type, in this dadaset."
   ]
  },
  {
   "cell_type": "code",
   "execution_count": 4,
   "metadata": {
    "collapsed": false,
    "deletable": true,
    "editable": true
   },
   "outputs": [
    {
     "data": {
      "text/plain": [
       "Counter({nan: 2,\n",
       "         'sprinkler/standpipe systems': 995,\n",
       "         'combustible materials': 1456,\n",
       "         'uncategorized complaint': 9838,\n",
       "         'street numbering': 141,\n",
       "         'elevators not working': 217,\n",
       "         'weeds and grass': 634,\n",
       "         'exit maintenance': 147,\n",
       "         'ul cert verification': 445,\n",
       "         'extinguishers': 1611,\n",
       "         'roof access': 194,\n",
       "         'multiple fire code violations': 620,\n",
       "         'blocked exits': 3593,\n",
       "         'unlicensed auto repair': 116,\n",
       "         'electrical systems': 128,\n",
       "         'crisp complaint inspection': 32,\n",
       "         'operating without a permit': 577,\n",
       "         'refused hood + duct service': 49,\n",
       "         'unapproved place of assembly': 12,\n",
       "         'general hazardous materials': 343,\n",
       "         'alarm systems': 9683,\n",
       "         'fire escape': 122,\n",
       "         'hoarding': 108,\n",
       "         'open vacant building': 112,\n",
       "         'overcrowded place of assembly': 243,\n",
       "         'illegal occupancy': 37,\n",
       "         'leaking underground tanks': 4})"
      ]
     },
     "execution_count": 4,
     "metadata": {},
     "output_type": "execute_result"
    }
   ],
   "source": [
    "from collections import Counter\n",
    "\n",
    "complaint_types = Counter(complaints[\"Complaint Item Type Description\"])\n",
    "complaint_types"
   ]
  },
  {
   "cell_type": "markdown",
   "metadata": {
    "deletable": true,
    "editable": true
   },
   "source": [
    "By looking at the total types, it seems that there are two complaints that have a type \"nan\", which appear to be complaints that weren't specified any type. We can drop these two.\n",
    "Several other complaint types seem to be more related to the safety of evacuation in case of fire (e.g. \"blocked exits\"), which are not related to the risk of fire happening. (We may drop these?)\n",
    "Furthermore, we may consider grouping similar complaint types.\n",
    "First, we may group many of the complaints into three categories: \"potential fire cause\", \"potential fire control\", and \"fire emergency safety\".\n",
    "* Potential Fire Cause: \n",
    "    * general hazardous materials\n",
    "    * leaking underground tanks\n",
    "    * hoarding\n",
    "    * combustible materials\n",
    "    * weeds and grass\n",
    "    * open vacant building\n",
    "    * refused hood + duct service\n",
    "    * electrical systems\n",
    "    * unlicensed auto repair\n",
    "* Potential Fire Control:\n",
    "    * alarm systems\n",
    "    * sprinkler/standpipe systems\n",
    "    * extinguishers\n",
    "* Fire Emergency Safety\n",
    "    * roof access\n",
    "    * unapproved place of assembly\n",
    "    * fire escape\n",
    "    * blocked exits\n",
    "    * exit maintenance\n",
    "    * street numbering\n",
    "    * overcrowded place of assembly\n",
    "    \n",
    "In addition, I'm not exactly sure how to categorize the following complaint types:\n",
    "* ul cert verification\n",
    "* crisp complaint inspection\n",
    "* uncategorized complaint\n",
    "* multiple fire code violations\n",
    "* illegal occupancy\n",
    "* operating without a permit"
   ]
  },
  {
   "cell_type": "markdown",
   "metadata": {
    "deletable": true,
    "editable": true
   },
   "source": [
    "## The Disposition Column\n",
    "\n",
    "The possible values in this column can be acquired with the following step:"
   ]
  },
  {
   "cell_type": "code",
   "execution_count": 5,
   "metadata": {
    "collapsed": false
   },
   "outputs": [
    {
     "data": {
      "text/plain": [
       "Counter({nan: 2355,\n",
       "         'referred to another agency': 360,\n",
       "         'no jurisdiction': 199,\n",
       "         'violation issued': 5627,\n",
       "         'referred to pm inspection task force': 19,\n",
       "         'no access to building': 51,\n",
       "         'condition corrected': 17001,\n",
       "         'referred to dph': 12,\n",
       "         'duplicate complaint': 84,\n",
       "         'referred to dbi': 225,\n",
       "         'no merit': 5526})"
      ]
     },
     "execution_count": 5,
     "metadata": {},
     "output_type": "execute_result"
    }
   ],
   "source": [
    "disposition_types = Counter(complaints[\"Disposition\"])\n",
    "disposition_types"
   ]
  },
  {
   "cell_type": "markdown",
   "metadata": {},
   "source": [
    "There are 11 types of disposition values. The type 'no merit' and the type 'duplicate complaint' may indicate that the complaint is not valid, therefore we may ignore such complaints in the final output. \n",
    "There are also 2355 complaints where the disposition value is NaN. These complaints are preserved and counted towards the final output at this moment."
   ]
  },
  {
   "cell_type": "markdown",
   "metadata": {},
   "source": [
    "## Generating Output\n",
    "\n",
    "First, define a few functions to check the values of each complaint:"
   ]
  },
  {
   "cell_type": "code",
   "execution_count": 20,
   "metadata": {
    "collapsed": false
   },
   "outputs": [
    {
     "data": {
      "text/plain": [
       "True"
      ]
     },
     "execution_count": 20,
     "metadata": {},
     "output_type": "execute_result"
    }
   ],
   "source": [
    "from datetime import date\n",
    "\n",
    "def is_valid_complaint(row):\n",
    "    disposition = row[\"Disposition\"]\n",
    "    return not (disposition == \"no merit\" or disposition == \"duplicate complaint\")\n",
    "\n",
    "def is_corrected(row):\n",
    "    disposition = row[\"disposition\"]\n",
    "    return disposition == \"condition corrected\"\n",
    "\n",
    "def parse_date(date_str):\n",
    "    \"\"\"For a string in the format of YYYY-MM-DD, \n",
    "    return (YYYY, MM, DD)\"\"\"\n",
    "    return tuple(map(int, date_str.split('-')))\n",
    "\n",
    "def is_within_date_range(row, min_date_str, max_date_str):\n",
    "    \"\"\"checks if beg <= row[\"Received Date\"] <= end\n",
    "    row: a row in the dataset, representing one complaint\n",
    "    min_date_str: a str representing the beginning of the date range\n",
    "    max_date_str: a str representing the end of the date range\n",
    "    \"\"\"\n",
    "    complaint_date = date(*parse_date(row[\"Received Date\"]))\n",
    "    min_date = date(*parse_date(min_date_str))\n",
    "    max_date = date(*parse_date(max_date_str))\n",
    "    \n",
    "    return min_date <= complaint_date and max_date >= complaint_date"
   ]
  },
  {
   "cell_type": "markdown",
   "metadata": {},
   "source": [
    "Next, define a mapping from a complaint description to a more general complaint category, following the previous observation. "
   ]
  },
  {
   "cell_type": "code",
   "execution_count": 24,
   "metadata": {
    "collapsed": false
   },
   "outputs": [
    {
     "data": {
      "text/plain": [
       "{nan: 'unk',\n",
       " 'combustible materials': '10',\n",
       " 'uncategorized complaint': '99',\n",
       " 'extinguishers': '06',\n",
       " 'elevators not working': '09',\n",
       " 'weeds and grass': '01',\n",
       " 'exit maintenance': '23',\n",
       " 'ul cert verification': '17',\n",
       " 'street numbering': '21',\n",
       " 'roof access': '03',\n",
       " 'illegal occupancy': '25',\n",
       " 'multiple fire code violations': '98',\n",
       " 'blocked exits': '02',\n",
       " 'unlicensed auto repair': '04',\n",
       " 'electrical systems': '20',\n",
       " 'crisp complaint inspection': '16',\n",
       " 'operating without a permit': '08',\n",
       " 'refused hood + duct service': '12',\n",
       " 'unapproved place of assembly': '24',\n",
       " 'general hazardous materials': '15',\n",
       " 'alarm systems': '05',\n",
       " 'fire escape': '22',\n",
       " 'hoarding': '18',\n",
       " 'open vacant building': '07',\n",
       " 'overcrowded place of assembly': '11',\n",
       " 'sprinkler/standpipe systems': '19',\n",
       " 'leaking underground tanks': '13'}"
      ]
     },
     "execution_count": 24,
     "metadata": {},
     "output_type": "execute_result"
    }
   ],
   "source": [
    "# get the mappting from Complaint Item Type Description to Complaint Item Type\n",
    "complaint_id_mapping = {}\n",
    "\n",
    "for i, r in complaints.iterrows():\n",
    "    dsc = r[\"Complaint Item Type Description\"]\n",
    "    complaint_id = r[\"Complaint Item Type\"]\n",
    "    if dsc in complaint_id_mapping:\n",
    "        if complaint_id_mapping[dsc] != complaint_id:\n",
    "            raise Exception(\"Complaint Type has different IDs\")\n",
    "    else:\n",
    "        complaint_id_mapping[dsc] = complaint_id\n",
    "\n",
    "complaint_id_mapping"
   ]
  },
  {
   "cell_type": "code",
   "execution_count": 25,
   "metadata": {
    "collapsed": false
   },
   "outputs": [
    {
     "data": {
      "text/plain": [
       "{'01': 'potential fire cause',\n",
       " '02': 'fire emergency safety',\n",
       " '03': 'fire emergency safety',\n",
       " '04': 'potential fire cause',\n",
       " '05': 'potential fire control',\n",
       " '06': 'potential fire control',\n",
       " '07': 'potential fire cause',\n",
       " '10': 'potential fire cause',\n",
       " '11': 'fire emergency safety',\n",
       " '12': 'potential fire cause',\n",
       " '13': 'potential fire cause',\n",
       " '15': 'potential fire cause',\n",
       " '18': 'potential fire cause',\n",
       " '19': 'potential fire control',\n",
       " '20': 'potential fire cause',\n",
       " '21': 'fire emergency safety',\n",
       " '22': 'fire emergency safety',\n",
       " '23': 'fire emergency safety',\n",
       " '24': 'fire emergency safety'}"
      ]
     },
     "execution_count": 25,
     "metadata": {},
     "output_type": "execute_result"
    }
   ],
   "source": [
    "# define mapping from complaint item type to category\n",
    "potential_fire_cause = \"potential fire cause\"\n",
    "potential_fire_control = \"potential fire control\"\n",
    "fire_emergency_safety = \"fire emergency safety\"\n",
    "multiple_violations = \"multiple violations\"\n",
    "\n",
    "complaint_category_mapping = {\"potential fire cause\":['15', '13', '18', '10', '01', '07', '12', '20', '04'],\n",
    "                              \"potential fire control\":['05', '19', '06'], \n",
    "                              \"fire emergency safety\": ['03', '24', '22', '02', '23', '21', '11']}\n",
    "# reverse the mapping to get id -> category mappings\n",
    "complaint_category_mapping = {d:c for c, d_list in complaint_category_mapping.items()\n",
    "                                  for d in d_list}"
   ]
  },
  {
   "cell_type": "markdown",
   "metadata": {},
   "source": [
    "Now, we're able to generate the output dataset."
   ]
  },
  {
   "cell_type": "code",
   "execution_count": null,
   "metadata": {
    "collapsed": true
   },
   "outputs": [],
   "source": [
    "from collections import defaultdict\n",
    "\n",
    "eas_to_features = defaultdict(defaultdict(float))\n",
    "\n",
    "for d, r in complaints.iterrows():\n",
    "    eas = r[\"EAS\"]\n",
    "    complaint_type = r[\"Complaint Item Type\"]\n",
    "    # TODO: finish this"
   ]
  }
 ],
 "metadata": {
  "kernelspec": {
   "display_name": "Python 3",
   "language": "python",
   "name": "python3"
  },
  "language_info": {
   "codemirror_mode": {
    "name": "ipython",
    "version": 3
   },
   "file_extension": ".py",
   "mimetype": "text/x-python",
   "name": "python",
   "nbconvert_exporter": "python",
   "pygments_lexer": "ipython3",
   "version": "3.5.2"
  }
 },
 "nbformat": 4,
 "nbformat_minor": 2
}
