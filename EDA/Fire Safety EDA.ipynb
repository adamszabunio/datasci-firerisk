{
 "cells": [
  {
   "cell_type": "code",
   "execution_count": 12,
   "metadata": {
    "collapsed": true
   },
   "outputs": [],
   "source": [
    "import pandas as pd\n",
    "import numpy as np\n",
    "import sklearn\n",
    "import matplotlib.pyplot as plt"
   ]
  },
  {
   "cell_type": "code",
   "execution_count": 3,
   "metadata": {
    "collapsed": true
   },
   "outputs": [],
   "source": [
    "df_fire_safety = pd.read_csv('matched_Fire_Safety_Complaints.csv')"
   ]
  },
  {
   "cell_type": "code",
   "execution_count": 7,
   "metadata": {},
   "outputs": [
    {
     "name": "stdout",
     "output_type": "stream",
     "text": [
      "<class 'pandas.core.frame.DataFrame'>\n",
      "RangeIndex: 31459 entries, 0 to 31458\n",
      "Data columns (total 26 columns):\n",
      "Unnamed: 0                         31459 non-null int64\n",
      "Complaint Id                       31459 non-null object\n",
      "Complaint Number                   31459 non-null object\n",
      "Complaint Item Type                31459 non-null object\n",
      "Complaint Item Type Description    31457 non-null object\n",
      "311 Case Number                    749 non-null float64\n",
      "Inspection Number                  30404 non-null float64\n",
      "Address                            31459 non-null object\n",
      "Zipcode                            31355 non-null float64\n",
      "Battalion                          31450 non-null object\n",
      "Station Area                       31242 non-null object\n",
      "Fire Prevention District           31446 non-null object\n",
      "Received Date                      31459 non-null object\n",
      "Entry Date                         31459 non-null object\n",
      "Disposition                        29104 non-null object\n",
      "Disposition Date                   28774 non-null object\n",
      "Supervisor District                31358 non-null float64\n",
      "Neighborhood  District             31355 non-null object\n",
      "Location                           31412 non-null object\n",
      "Longitude                          31412 non-null float64\n",
      "Latitude                           31412 non-null float64\n",
      "LonRad                             31412 non-null float64\n",
      "LatRad                             31412 non-null float64\n",
      "EAS                                30915 non-null float64\n",
      "Closest Address                    30915 non-null object\n",
      "Score                              30915 non-null float64\n",
      "dtypes: float64(10), int64(1), object(15)\n",
      "memory usage: 6.2+ MB\n"
     ]
    }
   ],
   "source": [
    "df_fire_safety.info()"
   ]
  },
  {
   "cell_type": "code",
   "execution_count": 10,
   "metadata": {
    "collapsed": true
   },
   "outputs": [],
   "source": [
    "df_fire_safety['Received Date']=pd.to_datetime(df_fire_safety['Received Date'])\n",
    "df_fire_safety['Entry Date']=pd.to_datetime(df_fire_safety['Entry Date'])\n",
    "df_fire_safety['Disposition Date']=pd.to_datetime(df_fire_safety['Disposition Date'])"
   ]
  },
  {
   "cell_type": "code",
   "execution_count": 11,
   "metadata": {},
   "outputs": [
    {
     "name": "stdout",
     "output_type": "stream",
     "text": [
      "<class 'pandas.core.frame.DataFrame'>\n",
      "RangeIndex: 31459 entries, 0 to 31458\n",
      "Data columns (total 26 columns):\n",
      "Unnamed: 0                         31459 non-null int64\n",
      "Complaint Id                       31459 non-null object\n",
      "Complaint Number                   31459 non-null object\n",
      "Complaint Item Type                31459 non-null object\n",
      "Complaint Item Type Description    31457 non-null object\n",
      "311 Case Number                    749 non-null float64\n",
      "Inspection Number                  30404 non-null float64\n",
      "Address                            31459 non-null object\n",
      "Zipcode                            31355 non-null float64\n",
      "Battalion                          31450 non-null object\n",
      "Station Area                       31242 non-null object\n",
      "Fire Prevention District           31446 non-null object\n",
      "Received Date                      31459 non-null datetime64[ns]\n",
      "Entry Date                         31459 non-null datetime64[ns]\n",
      "Disposition                        29104 non-null object\n",
      "Disposition Date                   28774 non-null datetime64[ns]\n",
      "Supervisor District                31358 non-null float64\n",
      "Neighborhood  District             31355 non-null object\n",
      "Location                           31412 non-null object\n",
      "Longitude                          31412 non-null float64\n",
      "Latitude                           31412 non-null float64\n",
      "LonRad                             31412 non-null float64\n",
      "LatRad                             31412 non-null float64\n",
      "EAS                                30915 non-null float64\n",
      "Closest Address                    30915 non-null object\n",
      "Score                              30915 non-null float64\n",
      "dtypes: datetime64[ns](3), float64(10), int64(1), object(12)\n",
      "memory usage: 6.2+ MB\n"
     ]
    }
   ],
   "source": [
    "df_fire_safety.info()"
   ]
  },
  {
   "cell_type": "code",
   "execution_count": null,
   "metadata": {
    "collapsed": true
   },
   "outputs": [],
   "source": []
  },
  {
   "cell_type": "code",
   "execution_count": 17,
   "metadata": {
    "collapsed": true
   },
   "outputs": [],
   "source": [
    "df_fire_safety['Year_Received']= df_fire_safety['Received Date'].dt.year"
   ]
  },
  {
   "cell_type": "code",
   "execution_count": 30,
   "metadata": {},
   "outputs": [
    {
     "data": {
      "text/plain": [
       "(array([ 4352.,  2583.,  2185.,  3107.,  2344.,  3822.,  1707.,  1589.,\n",
       "         2955.,  6815.]),\n",
       " array([ 2005. ,  2006.2,  2007.4,  2008.6,  2009.8,  2011. ,  2012.2,\n",
       "         2013.4,  2014.6,  2015.8,  2017. ]),\n",
       " <a list of 10 Patch objects>)"
      ]
     },
     "execution_count": 30,
     "metadata": {},
     "output_type": "execute_result"
    }
   ],
   "source": [
    "plt.hist(df_fire_safety['Year_Received'],bins=10)"
   ]
  },
  {
   "cell_type": "code",
   "execution_count": 31,
   "metadata": {},
   "outputs": [
    {
     "data": {
      "image/png": "[encoded data removed]",
      "text/plain": [
       "<matplotlib.figure.Figure at 0x119d2d510>"
      ]
     },
     "metadata": {},
     "output_type": "display_data"
    }
   ],
   "source": [
    "plt.title('Fire Safety Complaints by Year')\n",
    "plt.show()"
   ]
  },
  {
   "cell_type": "code",
   "execution_count": 50,
   "metadata": {
    "collapsed": true
   },
   "outputs": [],
   "source": [
    "disposition = df_fire_safety[['Disposition','Complaint Number','Year_Received']].groupby(['Year_Received','Disposition']).count().reset_index()"
   ]
  },
  {
   "cell_type": "code",
   "execution_count": 78,
   "metadata": {},
   "outputs": [
    {
     "data": {
      "text/plain": [
       "[<matplotlib.lines.Line2D at 0x11aa6ba50>]"
      ]
     },
     "execution_count": 78,
     "metadata": {},
     "output_type": "execute_result"
    }
   ],
   "source": []
  },
  {
   "cell_type": "code",
   "execution_count": 80,
   "metadata": {},
   "outputs": [
    {
     "data": {
      "image/png": "[encoded data removed]",
      "text/plain": [
       "<matplotlib.figure.Figure at 0x11a42a410>"
      ]
     },
     "metadata": {},
     "output_type": "display_data"
    }
   ],
   "source": [
    "plt.plot(disposition[disposition['Disposition']=='condition corrected']['Year_Received'], disposition[disposition['Disposition']=='condition corrected']['Complaint Number'], label = 'condition corrected')\n",
    "plt.plot(disposition[disposition['Disposition']=='violation issued']['Year_Received'], disposition[disposition['Disposition']=='violation issued']['Complaint Number'], label = 'violation issued')\n",
    "plt.legend(loc='best')\n",
    "plt.title('Fire Safety Violations/Conditions in SF by Year')\n",
    "plt.show()"
   ]
  },
  {
   "cell_type": "code",
   "execution_count": 57,
   "metadata": {},
   "outputs": [
    {
     "data": {
      "text/plain": [
       "array(['condition corrected', 'no jurisdiction', 'no merit',\n",
       "       'referred to another agency', 'referred to dbi', 'violation issued',\n",
       "       'referred to dph', 'referred to pm inspection task force',\n",
       "       'no access to building', 'duplicate complaint'], dtype=object)"
      ]
     },
     "execution_count": 57,
     "metadata": {},
     "output_type": "execute_result"
    }
   ],
   "source": [
    "disposition['Disposition'].unique()"
   ]
  },
  {
   "cell_type": "code",
   "execution_count": null,
   "metadata": {
    "collapsed": true
   },
   "outputs": [],
   "source": []
  }
 ],
 "metadata": {
  "kernelspec": {
   "display_name": "Python 2",
   "language": "python",
   "name": "python2"
  },
  "language_info": {
   "codemirror_mode": {
    "name": "ipython",
    "version": 2
   },
   "file_extension": ".py",
   "mimetype": "text/x-python",
   "name": "python",
   "nbconvert_exporter": "python",
   "pygments_lexer": "ipython2",
   "version": "2.7.9"
  }
 },
 "nbformat": 4,
 "nbformat_minor": 2
}
